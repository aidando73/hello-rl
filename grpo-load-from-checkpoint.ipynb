{
 "cells": [
  {
   "cell_type": "code",
   "execution_count": null,
   "metadata": {},
   "outputs": [],
   "source": [
    "from unsloth import FastLanguageModel\n",
    "import os\n",
    "\n",
    "# Load environment variables from .env file\n",
    "from dotenv import load_dotenv\n",
    "\n",
    "# Load the .env file\n",
    "load_dotenv()\n",
    "\n",
    "SAVED_LORA_ADAPTER = \"outputs/checkpoint-10500\"\n",
    "HUB_NAME = \"aidando73/llama-3.1-8b-grpo-10500-merged\"\n",
    "LOAD_IN_4BIT = False\n",
    "\n",
    "max_seq_length = 1024\n",
    "model, tokenizer = FastLanguageModel.from_pretrained(\n",
    "    model_name = SAVED_LORA_ADAPTER, # YOUR MODEL YOU USED FOR TRAINING\n",
    "    max_seq_length = max_seq_length,\n",
    "    load_in_4bit = LOAD_IN_4BIT\n",
    ")\n",
    "\n",
    "model.push_to_hub_merged(MODEL_NAME, tokenizer, save_method = \"merged_16bit\", token = os.getenv(\"HUGGINGFACE_TOKEN\"))"
   ]
  }
 ],
 "metadata": {
  "kernelspec": {
   "display_name": "Python 3",
   "language": "python",
   "name": "python3"
  },
  "language_info": {
   "name": "python",
   "version": "3.10.16"
  }
 },
 "nbformat": 4,
 "nbformat_minor": 2
}
