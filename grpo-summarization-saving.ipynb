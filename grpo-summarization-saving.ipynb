{
 "cells": [
  {
   "cell_type": "code",
   "execution_count": 3,
   "metadata": {},
   "outputs": [
    {
     "name": "stderr",
     "output_type": "stream",
     "text": [
      "Sliding Window Attention is enabled but not implemented for `sdpa`; unexpected results may be encountered.\n"
     ]
    },
    {
     "name": "stdout",
     "output_type": "stream",
     "text": [
      "Loaded model and tokenizer from Qwen2-0.5B-GRPO-checkpoints/checkpoint-8250\n"
     ]
    },
    {
     "name": "stderr",
     "output_type": "stream",
     "text": [
      "model.safetensors: 100%|██████████| 1.98G/1.98G [00:59<00:00, 32.9MB/s]\n",
      "tokenizer.json: 100%|██████████| 11.4M/11.4M [00:00<00:00, 25.3MB/s]\n"
     ]
    },
    {
     "name": "stdout",
     "output_type": "stream",
     "text": [
      "Successfully pushed model and tokenizer to huggingface.co/aidando73/Qwen2-0.5B-GRPO-8250\n"
     ]
    }
   ],
   "source": [
    "from transformers import AutoModelForCausalLM, AutoTokenizer\n",
    "import os\n",
    "from dotenv import load_dotenv\n",
    "\n",
    "# Load environment variables from .env file\n",
    "load_dotenv()\n",
    "\n",
    "# Get Hugging Face token from environment variables\n",
    "huggingface_token = os.getenv(\"HUGGINGFACE_TOKEN\")\n",
    "\n",
    "# Path to the checkpoint you want to load\n",
    "checkpoint_path = \"Qwen2-0.5B-GRPO-checkpoints/checkpoint-8250\"\n",
    "\n",
    "# Load model and tokenizer from checkpoint\n",
    "model = AutoModelForCausalLM.from_pretrained(checkpoint_path)\n",
    "tokenizer = AutoTokenizer.from_pretrained(checkpoint_path)\n",
    "\n",
    "print(f\"Loaded model and tokenizer from {checkpoint_path}\")\n",
    "\n",
    "# Define the repository name for pushing to Hub\n",
    "repo_name = \"aidando73/Qwen2-0.5B-GRPO-8250\"\n",
    "\n",
    "# Push the model and tokenizer to the Hugging Face Hub\n",
    "model.push_to_hub(repo_name, token=huggingface_token)\n",
    "tokenizer.push_to_hub(repo_name, token=huggingface_token)\n",
    "\n",
    "print(f\"Successfully pushed model and tokenizer to huggingface.co/{repo_name}\")"
   ]
  }
 ],
 "metadata": {
  "kernelspec": {
   "display_name": "Python 3",
   "language": "python",
   "name": "python3"
  },
  "language_info": {
   "codemirror_mode": {
    "name": "ipython",
    "version": 3
   },
   "file_extension": ".py",
   "mimetype": "text/x-python",
   "name": "python",
   "nbconvert_exporter": "python",
   "pygments_lexer": "ipython3",
   "version": "3.10.16"
  }
 },
 "nbformat": 4,
 "nbformat_minor": 2
}
