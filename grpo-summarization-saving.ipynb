{
 "cells": [
  {
   "cell_type": "code",
   "execution_count": null,
   "metadata": {},
   "outputs": [],
   "source": [
    "from transformers import AutoModelForCausalLM, AutoTokenizer\n",
    "import os\n",
    "from dotenv import load_dotenv\n",
    "\n",
    "# Load environment variables from .env file\n",
    "load_dotenv()\n",
    "\n",
    "# Get Hugging Face token from environment variables\n",
    "huggingface_token = os.getenv(\"HUGGINGFACE_TOKEN\")\n",
    "\n",
    "# Path to the checkpoint you want to load\n",
    "checkpoint_path = \"Qwen2-0.5B-GRPO-checkpoints\"\n",
    "\n",
    "# Load model and tokenizer from checkpoint\n",
    "model = AutoModelForCausalLM.from_pretrained(checkpoint_path)\n",
    "tokenizer = AutoTokenizer.from_pretrained(checkpoint_path)\n",
    "\n",
    "print(f\"Loaded model and tokenizer from {checkpoint_path}\")\n",
    "\n",
    "# Define the repository name for pushing to Hub\n",
    "repo_name = \"aidando73/Qwen2-0.5B-GRPO-8250\"\n",
    "\n",
    "# Push the model and tokenizer to the Hugging Face Hub\n",
    "model.push_to_hub(repo_name, token=huggingface_token)\n",
    "tokenizer.push_to_hub(repo_name, token=huggingface_token)\n",
    "\n",
    "print(f\"Successfully pushed model and tokenizer to huggingface.co/{repo_name}\")"
   ]
  }
 ],
 "metadata": {
  "kernelspec": {
   "display_name": "Python 3",
   "language": "python",
   "name": "python3"
  },
  "language_info": {
   "name": "python",
   "version": "3.10.16"
  }
 },
 "nbformat": 4,
 "nbformat_minor": 2
}
