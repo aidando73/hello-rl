{
 "cells": [
  {
   "cell_type": "code",
   "execution_count": null,
   "metadata": {},
   "outputs": [
    {
     "name": "stdout",
     "output_type": "stream",
     "text": [
      "Loading SynthLabsAI/Big-Math-RL-Verified dataset...\n"
     ]
    }
   ],
   "source": [
    "import os\n",
    "import numpy as np\n",
    "import pandas as pd\n",
    "import matplotlib.pyplot as plt\n",
    "from datasets import load_dataset\n",
    "from dotenv import load_dotenv\n",
    "\n",
    "# Load environment variables from .env file\n",
    "load_dotenv()\n",
    "\n",
    "# Load the SynthLabsAI/Big-Math-RL-Verified dataset\n",
    "print(\"Loading SynthLabsAI/Big-Math-RL-Verified dataset...\")\n",
    "dataset = load_dataset(\"SynthLabsAI/Big-Math-RL-Verified\", token=os.environ[\"HUGGINGFACE_TOKEN\"])\n",
    "\n",
    "# Display basic information about the dataset\n",
    "print(f\"Dataset structure: {dataset}\")\n",
    "print(f\"Available splits: {dataset.keys()}\")\n",
    "\n",
    "# Show a sample from the dataset\n",
    "if \"train\" in dataset:\n",
    "    print(\"\\nSample from training set:\")\n",
    "    print(dataset[\"train\"][0])\n",
    "    print(f\"Number of examples in training set: {len(dataset['train'])}\")\n",
    "\n",
    "if \"test\" in dataset:\n",
    "    print(\"\\nSample from test set:\")\n",
    "    print(dataset[\"test\"][0])\n",
    "    print(f\"Number of examples in test set: {len(dataset['test'])}\")\n",
    "\n",
    "# Basic statistics about the dataset\n",
    "print(\"\\nExploring dataset fields and structure...\")\n",
    "if \"train\" in dataset:\n",
    "    # Get column names\n",
    "    columns = dataset[\"train\"].column_names\n",
    "    print(f\"Dataset columns: {columns}\")\n",
    "    \n",
    "    # Display a few examples in a DataFrame for better visualization\n",
    "    df_sample = pd.DataFrame(dataset[\"train\"][:5])\n",
    "    print(\"\\nSample data as DataFrame:\")\n",
    "    print(df_sample)\n"
   ]
  }
 ],
 "metadata": {
  "kernelspec": {
   "display_name": "Python 3",
   "language": "python",
   "name": "python3"
  },
  "language_info": {
   "codemirror_mode": {
    "name": "ipython",
    "version": 3
   },
   "file_extension": ".py",
   "mimetype": "text/x-python",
   "name": "python",
   "nbconvert_exporter": "python",
   "pygments_lexer": "ipython3",
   "version": "3.10.16"
  }
 },
 "nbformat": 4,
 "nbformat_minor": 2
}
