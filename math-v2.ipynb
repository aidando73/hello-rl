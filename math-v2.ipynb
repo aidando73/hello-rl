{
 "cells": [
  {
   "cell_type": "code",
   "execution_count": 1,
   "metadata": {},
   "outputs": [
    {
     "name": "stderr",
     "output_type": "stream",
     "text": [
      "/Users/aidand/dev/hello-rl/math-v2/lib/python3.10/site-packages/tqdm/auto.py:21: TqdmWarning: IProgress not found. Please update jupyter and ipywidgets. See https://ipywidgets.readthedocs.io/en/stable/user_install.html\n",
      "  from .autonotebook import tqdm as notebook_tqdm\n",
      "Generating train split: 100%|██████████| 896215/896215 [00:01<00:00, 584662.78 examples/s]\n"
     ]
    },
    {
     "name": "stdout",
     "output_type": "stream",
     "text": [
      "Dataset structure:\n",
      "DatasetDict({\n",
      "    train: Dataset({\n",
      "        features: ['problem', 'solution', 'answer', 'problem_type', 'question_type', 'problem_is_valid', 'solution_is_valid', 'source', 'synthetic'],\n",
      "        num_rows: 896215\n",
      "    })\n",
      "})\n",
      "\n",
      "Sample data from the dataset:\n",
      "\n",
      "train split - 896215 examples\n",
      "{'problem': '\\nProblem 1. Find all prime numbers $p$ for which there exist positive integers $x, y$ and $z$ such that the number\\n\\n$$\\nx^{p}+y^{p}+z^{p}-x-y-z\\n$$\\n\\nis a product of exactly three distinct prime numbers.\\n', 'solution': \"\\nSolution. Let $A=x^{p}+y^{p}+z^{p}-x-y-z$. For $p=2$, we take $x=y=4$ and $z=3$. Then $A=30=2 \\\\cdot 3 \\\\cdot 5$. For $p=3$ we can take $x=3$ and $y=2$ and $z=1$. Then again $A=30=2 \\\\cdot 3 \\\\cdot 5$. For $p=5$ we can take $x=2$ and $y=1$ and $z=1$. Again $A=30=2 \\\\cdot 3 \\\\cdot 5$.\\n\\nAssume now that $p \\\\geqslant 7$. Working modulo 2 and modulo 3 we see that $A$ is divisible by both 2 and 3. Moreover, by Fermat's Little Theorem, we have\\n\\n$$\\nx^{p}+y^{p}+z^{p}-x-y-z \\\\equiv x+y+z-x-y-z=0 \\\\bmod p \\\\text {. }\\n$$\\n\\nTherefore, by the given condition, we have to solve the equation\\n\\n$$\\nx^{p}+y^{p}+z^{p}-x-y-z=6 p\\n$$\\n\\nIf one of the numbers $x, y$ and $z$ is bigger than or equal to 2 , let's say $x \\\\geqslant 2$, then\\n\\n$$\\n6 p \\\\geqslant x^{p}-x=x\\\\left(x^{p-1}-1\\\\right) \\\\geqslant 2\\\\left(2^{p-1}-1\\\\right)=2^{p}-2\\n$$\\n\\nIt is easy to check by induction that $2^{n}-2>6 n$ for all natural numbers $n \\\\geqslant 6$. This contradiction shows that there are no more values of $p$ which satisfy the required property.\\n\\nRemark. There are a couple of other ways to prove that $2^{p}-2>6 p$ for $p \\\\geqslant 7$. For example, we can use the Binomial Theorem as follows:\\n\\n$$\\n2^{p}-2 \\\\geqslant 1+p+\\\\frac{p(p-1)}{2}+\\\\frac{p(p-1)(p-2)}{6}-2 \\\\geqslant 1+p+3 p+5 p-2>6 p\\n$$\\n\\nWe can also use Bernoulli's Inequality as follows:\\n\\n$$\\n2^{p}-2=8(1+1)^{p-3}-2 \\\\geqslant 8(1+(p-3))-2=8 p-18>6 p\\n$$\\n\\nThe last inequality is true for $p \\\\geqslant 11$. For $p=7$ we can see directly that $2^{p}-2>6 p$.\\n\\nOne can also use calculus to show that $f(x)=2^{x}-6 x$ is increasing for $x \\\\geqslant 5$.\\n\", 'answer': 'proof', 'problem_type': 'Number Theory', 'question_type': 'math-word-problem', 'problem_is_valid': 'Yes', 'solution_is_valid': 'Yes', 'source': 'olympiads', 'synthetic': False}\n",
      "\n",
      "Analyzing train split:\n",
      "Columns: ['problem', 'solution', 'answer', 'problem_type', 'question_type', 'problem_is_valid', 'solution_is_valid', 'source', 'synthetic']\n",
      "Number of examples: 896215\n",
      "Column 'solution' has 32428 missing values\n",
      "Column 'answer' has 51408 missing values\n"
     ]
    }
   ],
   "source": [
    "import os\n",
    "import json\n",
    "import pandas as pd\n",
    "import numpy as np\n",
    "import matplotlib.pyplot as plt\n",
    "from datasets import load_dataset\n",
    "\n",
    "# Load the NuminaMath-1.5 dataset\n",
    "numina_math = load_dataset(\"AI-MO/NuminaMath-1.5\")\n",
    "\n",
    "# Display basic information about the dataset\n",
    "print(\"Dataset structure:\")\n",
    "print(numina_math)\n",
    "\n",
    "# Show the first few examples from the dataset\n",
    "print(\"\\nSample data from the dataset:\")\n",
    "for split in numina_math.keys():\n",
    "    print(f\"\\n{split} split - {len(numina_math[split])} examples\")\n",
    "    print(numina_math[split][0])\n",
    "    \n",
    "# Analyze the dataset structure\n",
    "def analyze_dataset_structure(dataset):\n",
    "    for split_name, split_data in dataset.items():\n",
    "        print(f\"\\nAnalyzing {split_name} split:\")\n",
    "        \n",
    "        # Get column names\n",
    "        columns = split_data.column_names\n",
    "        print(f\"Columns: {columns}\")\n",
    "        \n",
    "        # Sample size\n",
    "        print(f\"Number of examples: {len(split_data)}\")\n",
    "        \n",
    "        # Check for any missing values\n",
    "        for col in columns:\n",
    "            null_count = sum(1 for item in split_data[col] if item is None)\n",
    "            if null_count > 0:\n",
    "                print(f\"Column '{col}' has {null_count} missing values\")\n",
    "\n",
    "analyze_dataset_structure(numina_math)\n"
   ]
  }
 ],
 "metadata": {
  "kernelspec": {
   "display_name": "Python 3",
   "language": "python",
   "name": "python3"
  },
  "language_info": {
   "codemirror_mode": {
    "name": "ipython",
    "version": 3
   },
   "file_extension": ".py",
   "mimetype": "text/x-python",
   "name": "python",
   "nbconvert_exporter": "python",
   "pygments_lexer": "ipython3",
   "version": "3.10.16"
  }
 },
 "nbformat": 4,
 "nbformat_minor": 2
}
