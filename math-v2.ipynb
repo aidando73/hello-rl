{
 "cells": [
  {
   "cell_type": "code",
   "execution_count": null,
   "metadata": {},
   "outputs": [],
   "source": [
    "import os\n",
    "import json\n",
    "import pandas as pd\n",
    "import numpy as np\n",
    "import matplotlib.pyplot as plt\n",
    "from datasets import load_dataset\n",
    "\n",
    "# Load the NuminaMath-1.5 dataset\n",
    "numina_math = load_dataset(\"AI-MO/NuminaMath-1.5\")\n",
    "\n",
    "# Display basic information about the dataset\n",
    "print(\"Dataset structure:\")\n",
    "print(numina_math)\n",
    "\n",
    "# Show the first few examples from the dataset\n",
    "print(\"\\nSample data from the dataset:\")\n",
    "for split in numina_math.keys():\n",
    "    print(f\"\\n{split} split - {len(numina_math[split])} examples\")\n",
    "    print(numina_math[split][0])\n",
    "    \n",
    "# Analyze the dataset structure\n",
    "def analyze_dataset_structure(dataset):\n",
    "    for split_name, split_data in dataset.items():\n",
    "        print(f\"\\nAnalyzing {split_name} split:\")\n",
    "        \n",
    "        # Get column names\n",
    "        columns = split_data.column_names\n",
    "        print(f\"Columns: {columns}\")\n",
    "        \n",
    "        # Sample size\n",
    "        print(f\"Number of examples: {len(split_data)}\")\n",
    "        \n",
    "        # Check for any missing values\n",
    "        for col in columns:\n",
    "            null_count = sum(1 for item in split_data[col] if item is None)\n",
    "            if null_count > 0:\n",
    "                print(f\"Column '{col}' has {null_count} missing values\")\n",
    "\n",
    "analyze_dataset_structure(numina_math)\n"
   ]
  }
 ],
 "metadata": {
  "kernelspec": {
   "display_name": "Python 3",
   "language": "python",
   "name": "python3"
  },
  "language_info": {
   "name": "python",
   "version": "3.10.16"
  }
 },
 "nbformat": 4,
 "nbformat_minor": 2
}
