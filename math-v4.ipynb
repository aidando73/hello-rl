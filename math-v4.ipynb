{
 "cells": [
  {
   "cell_type": "code",
   "execution_count": null,
   "metadata": {},
   "outputs": [],
   "source": [
    "import os\n",
    "import pandas as pd\n",
    "from datasets import load_dataset\n",
    "from dotenv import load_dotenv\n",
    "\n",
    "# Load environment variables from .env file\n",
    "load_dotenv()\n",
    "\n",
    "# Load the SynthLabsAI/Big-Math-RL-Verified dataset\n",
    "print(\"Loading SynthLabsAI/Big-Math-RL-Verified dataset...\")\n",
    "dataset = load_dataset(\"SynthLabsAI/Big-Math-RL-Verified\", token=os.environ[\"HUGGINGFACE_TOKEN\"])"
   ]
  }
 ],
 "metadata": {
  "language_info": {
   "name": "python"
  }
 },
 "nbformat": 4,
 "nbformat_minor": 2
}
