{
 "cells": [
  {
   "cell_type": "code",
   "execution_count": 2,
   "metadata": {},
   "outputs": [
    {
     "name": "stdout",
     "output_type": "stream",
     "text": [
      "Loading SynthLabsAI/Big-Math-RL-Verified dataset...\n"
     ]
    },
    {
     "name": "stderr",
     "output_type": "stream",
     "text": [
      "Generating train split: 100%|██████████| 251122/251122 [00:00<00:00, 461010.01 examples/s]\n"
     ]
    }
   ],
   "source": [
    "import os\n",
    "import pandas as pd\n",
    "from datasets import load_dataset\n",
    "from dotenv import load_dotenv\n",
    "\n",
    "# Load environment variables from .env file\n",
    "load_dotenv()\n",
    "\n",
    "# Load the SynthLabsAI/Big-Math-RL-Verified dataset\n",
    "print(\"Loading SynthLabsAI/Big-Math-RL-Verified dataset...\")\n",
    "dataset = load_dataset(\"SynthLabsAI/Big-Math-RL-Verified\", token=os.environ[\"HUGGINGFACE_TOKEN\"])"
   ]
  },
  {
   "cell_type": "code",
   "execution_count": 3,
   "metadata": {},
   "outputs": [
    {
     "name": "stdout",
     "output_type": "stream",
     "text": [
      "Converting dataset to DataFrame...\n",
      "DataFrame shape: (251122, 5)\n",
      "\n",
      "DataFrame columns:\n",
      "- problem\n",
      "- answer\n",
      "- source\n",
      "- domain\n",
      "- llama8b_solve_rate\n",
      "\n",
      "First 5 rows of the DataFrame:\n"
     ]
    },
    {
     "data": {
      "text/html": [
       "<div>\n",
       "<style scoped>\n",
       "    .dataframe tbody tr th:only-of-type {\n",
       "        vertical-align: middle;\n",
       "    }\n",
       "\n",
       "    .dataframe tbody tr th {\n",
       "        vertical-align: top;\n",
       "    }\n",
       "\n",
       "    .dataframe thead th {\n",
       "        text-align: right;\n",
       "    }\n",
       "</style>\n",
       "<table border=\"1\" class=\"dataframe\">\n",
       "  <thead>\n",
       "    <tr style=\"text-align: right;\">\n",
       "      <th></th>\n",
       "      <th>problem</th>\n",
       "      <th>answer</th>\n",
       "      <th>source</th>\n",
       "      <th>domain</th>\n",
       "      <th>llama8b_solve_rate</th>\n",
       "    </tr>\n",
       "  </thead>\n",
       "  <tbody>\n",
       "    <tr>\n",
       "      <th>0</th>\n",
       "      <td>Given $p$: $|4x-3|\\leqslant 1$ and $q$: $x^{2}...</td>\n",
       "      <td>[0, \\\\frac{1}{2}]</td>\n",
       "      <td>cn_k12</td>\n",
       "      <td>[Mathematics -&gt; Algebra -&gt; Equations and Inequ...</td>\n",
       "      <td>0.125000</td>\n",
       "    </tr>\n",
       "    <tr>\n",
       "      <th>1</th>\n",
       "      <td>In acute triangle $\\triangle ABC$, the sides o...</td>\n",
       "      <td>\\\\sqrt{21}</td>\n",
       "      <td>cn_k12</td>\n",
       "      <td>[Mathematics -&gt; Geometry -&gt; Plane Geometry -&gt; ...</td>\n",
       "      <td>0.359375</td>\n",
       "    </tr>\n",
       "    <tr>\n",
       "      <th>2</th>\n",
       "      <td>If the linear function is $y=2x-3$, and it is ...</td>\n",
       "      <td>y = 2x</td>\n",
       "      <td>cn_k12</td>\n",
       "      <td>[Mathematics -&gt; Algebra -&gt; Algebraic Expressio...</td>\n",
       "      <td>0.531250</td>\n",
       "    </tr>\n",
       "    <tr>\n",
       "      <th>3</th>\n",
       "      <td>The sum of the first three terms of a geometri...</td>\n",
       "      <td>-2 \\\\text{ or } 1</td>\n",
       "      <td>cn_k12</td>\n",
       "      <td>[Mathematics -&gt; Algebra -&gt; Sequences and Series]</td>\n",
       "      <td>0.781250</td>\n",
       "    </tr>\n",
       "    <tr>\n",
       "      <th>4</th>\n",
       "      <td>If point $P(a, b)$ is on the graph of the func...</td>\n",
       "      <td>2\\\\sqrt{2}</td>\n",
       "      <td>cn_k12</td>\n",
       "      <td>[Mathematics -&gt; Calculus -&gt; Applications of De...</td>\n",
       "      <td>0.000000</td>\n",
       "    </tr>\n",
       "  </tbody>\n",
       "</table>\n",
       "</div>"
      ],
      "text/plain": [
       "                                             problem             answer  \\\n",
       "0  Given $p$: $|4x-3|\\leqslant 1$ and $q$: $x^{2}...  [0, \\\\frac{1}{2}]   \n",
       "1  In acute triangle $\\triangle ABC$, the sides o...         \\\\sqrt{21}   \n",
       "2  If the linear function is $y=2x-3$, and it is ...             y = 2x   \n",
       "3  The sum of the first three terms of a geometri...  -2 \\\\text{ or } 1   \n",
       "4  If point $P(a, b)$ is on the graph of the func...         2\\\\sqrt{2}   \n",
       "\n",
       "   source                                             domain  \\\n",
       "0  cn_k12  [Mathematics -> Algebra -> Equations and Inequ...   \n",
       "1  cn_k12  [Mathematics -> Geometry -> Plane Geometry -> ...   \n",
       "2  cn_k12  [Mathematics -> Algebra -> Algebraic Expressio...   \n",
       "3  cn_k12   [Mathematics -> Algebra -> Sequences and Series]   \n",
       "4  cn_k12  [Mathematics -> Calculus -> Applications of De...   \n",
       "\n",
       "   llama8b_solve_rate  \n",
       "0            0.125000  \n",
       "1            0.359375  \n",
       "2            0.531250  \n",
       "3            0.781250  \n",
       "4            0.000000  "
      ]
     },
     "metadata": {},
     "output_type": "display_data"
    }
   ],
   "source": [
    "# Convert the dataset to a pandas DataFrame\n",
    "print(\"Converting dataset to DataFrame...\")\n",
    "\n",
    "# Extract the train split\n",
    "train_data = dataset['train']\n",
    "\n",
    "# Convert to pandas DataFrame\n",
    "df = pd.DataFrame(train_data)\n",
    "\n",
    "# Display basic information about the DataFrame\n",
    "print(f\"DataFrame shape: {df.shape}\")\n",
    "print(\"\\nDataFrame columns:\")\n",
    "for col in df.columns:\n",
    "    print(f\"- {col}\")\n",
    "\n",
    "# Display the first few rows\n",
    "print(\"\\nFirst 5 rows of the DataFrame:\")\n",
    "display(df.head())\n"
   ]
  },
  {
   "cell_type": "code",
   "execution_count": null,
   "metadata": {},
   "outputs": [],
   "source": []
  }
 ],
 "metadata": {
  "language_info": {
   "name": "python"
  }
 },
 "nbformat": 4,
 "nbformat_minor": 2
}
