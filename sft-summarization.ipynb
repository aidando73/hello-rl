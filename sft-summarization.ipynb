{
 "cells": [
  {
   "cell_type": "code",
   "execution_count": 1,
   "metadata": {},
   "outputs": [
    {
     "name": "stderr",
     "output_type": "stream",
     "text": [
      "/workspace/hello-rl/env/lib/python3.10/site-packages/tqdm/auto.py:21: TqdmWarning: IProgress not found. Please update jupyter and ipywidgets. See https://ipywidgets.readthedocs.io/en/stable/user_install.html\n",
      "  from .autonotebook import tqdm as notebook_tqdm\n"
     ]
    },
    {
     "name": "stdout",
     "output_type": "stream",
     "text": [
      "                                              prompt  \\\n",
      "0  SUBREDDIT: r/relationships\\n\\nTITLE: I (f/22) ...   \n",
      "1  SUBREDDIT: r/loseit\\n\\nTITLE: SV & NSV! Keepin...   \n",
      "2  SUBREDDIT: r/relationships\\n\\nTITLE: Me [19F] ...   \n",
      "3  SUBREDDIT: r/personalfinance\\n\\nTITLE: Priorit...   \n",
      "4  SUBREDDIT: r/relationships\\n\\nTITLE: My[25m] g...   \n",
      "\n",
      "                                          completion  \n",
      "0   I still have contact with an old ex's friends...  \n",
      "1   Progress is still happening, even when you th...  \n",
      "2   My skin is scarred badly; what could I do/say...  \n",
      "3   $14k in student debt (all <5%) and need to sa...  \n",
      "4   GF is a meanie-bo-beanie when I'm nice, and a...  \n",
      "                                              prompt  \\\n",
      "0  SUBREDDIT: r/AskReddit\\n\\nTITLE: How do you ge...   \n",
      "1  SUBREDDIT: r/pettyrevenge\\n\\nTITLE: So, my mom...   \n",
      "2  SUBREDDIT: r/relationships\\n\\nTITLE: My girlfr...   \n",
      "3  SUBREDDIT: r/running\\n\\nTITLE: One year post-p...   \n",
      "4  SUBREDDIT: r/tifu\\n\\nTITLE: TIFU by getting sc...   \n",
      "\n",
      "                                          completion  \n",
      "0   long relationship; fell in love with an other...  \n",
      "1   Mom had the TV on loud and woke me up, didn't...  \n",
      "2   My girlfriend kissed two guys at a Halloween ...  \n",
      "3   I think pregnancy messed with my body, now I ...  \n",
      "4   got startled for no reason by a normal dude t...  \n"
     ]
    }
   ],
   "source": [
    "import datasets\n",
    "import pandas as pd\n",
    "\n",
    "dataset = datasets.load_dataset(\"trl-lib/tldr\")\n",
    "\n",
    "# Convert the dataset to a pandas DataFrame\n",
    "df_train = pd.DataFrame(dataset['train'])\n",
    "df_val = pd.DataFrame(dataset['validation'])\n",
    "\n",
    "print(df_train.head())\n",
    "print(df_val.head())"
   ]
  },
  {
   "cell_type": "code",
   "execution_count": 3,
   "metadata": {},
   "outputs": [
    {
     "name": "stderr",
     "output_type": "stream",
     "text": [
      "Sliding Window Attention is enabled but not implemented for `sdpa`; unexpected results may be encountered.\n"
     ]
    }
   ],
   "source": [
    "from transformers import AutoTokenizer, AutoModelForCausalLM\n",
    "import torch\n",
    "\n",
    "model_name = \"Qwen/Qwen2-0.5B-Instruct\"\n",
    "tokenizer = AutoTokenizer.from_pretrained(model_name)\n",
    "model = AutoModelForCausalLM.from_pretrained(\n",
    "    model_name,\n",
    "    trust_remote_code=True,\n",
    "    torch_dtype=torch.bfloat16,\n",
    "    device_map=\"auto\",\n",
    ")\n"
   ]
  },
  {
   "cell_type": "code",
   "execution_count": null,
   "metadata": {},
   "outputs": [],
   "source": [
    "def tokenize_chat(row):\n",
    "    chat = [\n",
    "        {\"role\": \"system\", \"content\": row[\"prompt\"]},\n",
    "        {\"role\": \"assistant\", \"content\": row[\"completion\"]},\n",
    "    ]\n",
    "    message = tokenizer.apply_chat_template(chat, tokenize=True)\n",
    "    return message\n",
    "\n",
    "trainset = [tokenize_chat(row) for i, row in df_train.iterrows()]\n",
    "valset = [tokenize_chat(row) for i, row in df_val.iterrows()]\n",
    "\n",
    "trainset"
   ]
  },
  {
   "cell_type": "code",
   "execution_count": null,
   "metadata": {},
   "outputs": [],
   "source": []
  }
 ],
 "metadata": {
  "kernelspec": {
   "display_name": "Python 3",
   "language": "python",
   "name": "python3"
  },
  "language_info": {
   "codemirror_mode": {
    "name": "ipython",
    "version": 3
   },
   "file_extension": ".py",
   "mimetype": "text/x-python",
   "name": "python",
   "nbconvert_exporter": "python",
   "pygments_lexer": "ipython3",
   "version": "3.10.16"
  }
 },
 "nbformat": 4,
 "nbformat_minor": 2
}
