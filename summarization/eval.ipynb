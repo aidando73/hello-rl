{
 "cells": [
  {
   "cell_type": "code",
   "execution_count": null,
   "metadata": {},
   "outputs": [
    {
     "name": "stderr",
     "output_type": "stream",
     "text": [
      "Generating train split: 100%|██████████| 116722/116722 [00:02<00:00, 55173.97 examples/s]\n",
      "Generating validation split: 100%|██████████| 6447/6447 [00:00<00:00, 35511.57 examples/s]\n",
      "Generating test split: 100%|██████████| 6553/6553 [00:00<00:00, 37591.99 examples/s]\n"
     ]
    },
    {
     "name": "stdout",
     "output_type": "stream",
     "text": [
      "Dataset shape: (6553, 2)\n",
      "                                              prompt  \\\n",
      "0  SUBREDDIT: r/relationships\\n\\nTITLE: Me [19 F]...   \n",
      "1  SUBREDDIT: r/Parenting\\n\\nTITLE: My 11 year ol...   \n",
      "2  SUBREDDIT: r/relationships\\n\\nTITLE: The girl ...   \n",
      "3  SUBREDDIT: r/tifu\\n\\nTITLE: TIFU by accidently...   \n",
      "4  SUBREDDIT: r/relationships\\n\\nTITLE: I [32 M] ...   \n",
      "\n",
      "                                          completion  \n",
      "0   I really like this guy, but after having sex ...  \n",
      "1   Sons good friend died and his funeral is toda...  \n",
      "2   Girl I'm seeing didn't respond to my texts wh...  \n",
      "3   Tried to stop an old lady falling, kicked her...  \n",
      "4   Wife Cheats on me but I stuck around for kids...  \n"
     ]
    }
   ],
   "source": [
    "import datasets\n",
    "import pandas as pd\n",
    "\n",
    "dataset = datasets.load_dataset(\"trl-lib/tldr\")\n",
    "\n",
    "\n",
    "# Convert the dataset to a pandas DataFrame\n",
    "df = pd.DataFrame(dataset['test'])\n",
    "print(f\"Dataset shape: {df.shape}\")\n",
    "print(df.head())"
   ]
  }
 ],
 "metadata": {
  "language_info": {
   "name": "python"
  }
 },
 "nbformat": 4,
 "nbformat_minor": 2
}
